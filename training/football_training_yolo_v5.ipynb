version https://git-lfs.github.com/spec/v1
oid sha256:464d693c951d4b5e39acebebe1f0002f4d8c5838690e4ec992633b356a0e079e
size 3626
